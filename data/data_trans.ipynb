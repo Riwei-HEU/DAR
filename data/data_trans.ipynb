{
 "cells": [
  {
   "cell_type": "code",
   "execution_count": 1,
   "id": "ed615707",
   "metadata": {},
   "outputs": [],
   "source": [
    "import numpy as np\n",
    "import pandas as pd \n",
    "import scipy.sparse as sp\n",
    "from copy import deepcopy\n",
    "import random\n",
    "import torch.utils.data as data"
   ]
  },
  {
   "cell_type": "code",
   "execution_count": 2,
   "id": "31079d8b",
   "metadata": {},
   "outputs": [],
   "source": [
    "def load_all(dataset, data_path):\n",
    "\n",
    "\ttrain_rating = data_path + '{}.train.rating'.format(dataset)\n",
    "\tvalid_rating = data_path + '{}.valid.rating'.format(dataset)\n",
    "\ttest_negative = data_path + '{}.test.negative'.format(dataset)\n",
    "\n",
    "\t################# load training data #################\t\n",
    "\ttrain_data = pd.read_csv(\n",
    "\t\ttrain_rating, \n",
    "\t\tsep='\\t', header=None, names=['user', 'item', 'noisy'], \n",
    "\t\tusecols=[0, 1, 2], dtype={0: np.int32, 1: np.int32, 2: np.int32})\n",
    "\n",
    "\tif dataset == \"adressa\":\n",
    "\t\tuser_num = 212231\n",
    "\t\titem_num = 6596\n",
    "\telse:\n",
    "\t\tuser_num = train_data['user'].max() + 1\n",
    "\t\titem_num = train_data['item'].max() + 1\n",
    "\tprint(\"user, item num\")\n",
    "\tprint(user_num, item_num)\n",
    "\ttrain_data = train_data.values.tolist()\n",
    "\n",
    "\t# load ratings as a dok matrix\n",
    "\ttrain_mat = sp.dok_matrix((user_num, item_num), dtype=np.float32)\n",
    "\ttrain_data_list = []\n",
    "\ttrain_data_noisy = []\n",
    "\tfor x in train_data:\n",
    "\t\ttrain_mat[x[0], x[1]] = 1.0\n",
    "\t\ttrain_data_list.append([x[0], x[1]])\n",
    "\t\ttrain_data_noisy.append(x[2])\n",
    "\n",
    "\t################# load validation data #################\n",
    "\tvalid_data = pd.read_csv(\n",
    "\t\tvalid_rating, \n",
    "\t\tsep='\\t', header=None, names=['user', 'item', 'noisy'], \n",
    "\t\tusecols=[0, 1, 2], dtype={0: np.int32, 1: np.int32, 2: np.int32})\n",
    "\tvalid_data = valid_data.values.tolist()\n",
    "\tvalid_data_list = []\n",
    "\tfor x in valid_data:\n",
    "\t\tvalid_data_list.append([x[0], x[1]])\n",
    "\t\n",
    "\ttrain_pos = {}\n",
    "\tfor x in train_data_list:\n",
    "\t\tif x[0] in train_pos:\n",
    "\t\t\ttrain_pos[x[0]].append(x[1])\n",
    "\t\telse:\n",
    "\t\t\ttrain_pos[x[0]] = [x[1]]\n",
    "\tvalid_pos = {}\n",
    "\tfor x in valid_data_list:\n",
    "\t\tif x[0] in valid_pos:\n",
    "\t\t\tvalid_pos[x[0]].append(x[1])\n",
    "\t\telse:\n",
    "\t\t\tvalid_pos[x[0]] = [x[1]]\n",
    "\n",
    "\n",
    "\t################# load testing data #################\n",
    "\ttest_mat = sp.dok_matrix((user_num, item_num), dtype=np.float32)\n",
    "\n",
    "\ttest_data_pos = {}\n",
    "\twith open(test_negative, 'r') as fd:\n",
    "\t\tline = fd.readline()\n",
    "\t\twhile line != None and line != '':\n",
    "\t\t\tarr = line.split('\\t')\n",
    "\t\t\tif dataset == \"adressa\":\n",
    "\t\t\t\tu = eval(arr[0])[0]\n",
    "\t\t\t\ti = eval(arr[0])[1]\n",
    "\t\t\telse:\n",
    "\t\t\t\tu = int(arr[0])\n",
    "\t\t\t\ti = int(arr[1])\n",
    "\t\t\tif u in test_data_pos:\n",
    "\t\t\t\ttest_data_pos[u].append(i)\n",
    "\t\t\telse:\n",
    "\t\t\t\ttest_data_pos[u] = [i]\n",
    "\t\t\ttest_mat[u, i] = 1.0\n",
    "\t\t\tline = fd.readline()\n",
    "\n",
    "\n",
    "\treturn train_data_list, valid_data_list, test_data_pos, train_pos, valid_pos, user_num, item_num, train_mat, train_data_noisy"
   ]
  },
  {
   "cell_type": "code",
   "execution_count": 3,
   "id": "c2f35a4b",
   "metadata": {},
   "outputs": [],
   "source": [
    "dataset = 'book'"
   ]
  },
  {
   "cell_type": "code",
   "execution_count": 4,
   "id": "47fc4553",
   "metadata": {},
   "outputs": [],
   "source": [
    "data_path = './{}/{}/'.format(dataset, dataset)"
   ]
  },
  {
   "cell_type": "code",
   "execution_count": 5,
   "id": "4b394306",
   "metadata": {},
   "outputs": [
    {
     "name": "stdout",
     "output_type": "stream",
     "text": [
      "user, item num\n",
      "80464 98663\n"
     ]
    }
   ],
   "source": [
    "train_data, valid_data, test_data_pos, train_pos, valid_pos, user_num ,item_num, train_mat, train_data_noisy = load_all(dataset, data_path)"
   ]
  },
  {
   "cell_type": "code",
   "execution_count": 6,
   "id": "50035f83",
   "metadata": {},
   "outputs": [],
   "source": [
    "f = open(data_path + 'train.txt', 'w')\n",
    "\n",
    "for u, i in train_pos.items():\n",
    "    f.write(str(u))\n",
    "    for n in i:\n",
    "        f.write(\" \" + str(n))\n",
    "    f.write('\\n')\n",
    "\n",
    "f.close()"
   ]
  },
  {
   "cell_type": "code",
   "execution_count": 7,
   "id": "04a9d99f",
   "metadata": {},
   "outputs": [],
   "source": [
    "f = open(data_path + 'valid.txt', 'w')\n",
    "\n",
    "for u, i in valid_pos.items():\n",
    "    f.write(str(u))\n",
    "    for n in i:\n",
    "        f.write(\" \" + str(n))\n",
    "    f.write('\\n')\n",
    "\n",
    "f.close()"
   ]
  },
  {
   "cell_type": "code",
   "execution_count": 8,
   "id": "9819e28b",
   "metadata": {},
   "outputs": [],
   "source": [
    "f = open(data_path + 'test.txt', 'w')\n",
    "\n",
    "for u, i in test_data_pos.items():\n",
    "    f.write(str(u))\n",
    "    for n in i:\n",
    "        f.write(\" \" + str(n))\n",
    "    f.write('\\n')\n",
    "\n",
    "f.close()"
   ]
  },
  {
   "cell_type": "code",
   "execution_count": null,
   "id": "2beb11f5",
   "metadata": {},
   "outputs": [],
   "source": []
  }
 ],
 "metadata": {
  "kernelspec": {
   "display_name": "Python [conda env:base] *",
   "language": "python",
   "name": "conda-base-py"
  },
  "language_info": {
   "codemirror_mode": {
    "name": "ipython",
    "version": 3
   },
   "file_extension": ".py",
   "mimetype": "text/x-python",
   "name": "python",
   "nbconvert_exporter": "python",
   "pygments_lexer": "ipython3",
   "version": "3.11.9"
  }
 },
 "nbformat": 4,
 "nbformat_minor": 5
}
